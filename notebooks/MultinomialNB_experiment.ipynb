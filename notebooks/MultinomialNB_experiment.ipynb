{
 "cells": [
  {
   "cell_type": "code",
   "execution_count": null,
   "id": "initial_id",
   "metadata": {
    "collapsed": true
   },
   "outputs": [],
   "source": [
    ""
   ]
  },
  {
   "metadata": {},
   "cell_type": "markdown",
   "source": "# Import Libraries",
   "id": "923eecf7b25816e9"
  },
  {
   "metadata": {
    "collapsed": true,
    "ExecuteTime": {
     "end_time": "2024-10-19T07:56:25.858026Z",
     "start_time": "2024-10-19T07:56:25.022639Z"
    }
   },
   "cell_type": "code",
   "source": [
    "import optuna\n",
    "import os\n",
    "import mlflow\n",
    "import mlflow.sklearn\n",
    "from sklearn.model_selection import train_test_split\n",
    "from sklearn.metrics import accuracy_score, classification_report\n",
    "from sklearn.feature_extraction.text import TfidfVectorizer\n",
    "from sklearn.naive_bayes import MultinomialNB\n",
    "import pandas as pd\n",
    "from sklearn.utils.class_weight import compute_class_weight\n",
    "import numpy as np"
   ],
   "id": "ebe7c7f90c78f36a",
   "outputs": [],
   "execution_count": 1
  },
  {
   "metadata": {
    "ExecuteTime": {
     "end_time": "2024-10-19T07:56:25.866536Z",
     "start_time": "2024-10-19T07:56:25.862138Z"
    }
   },
   "cell_type": "code",
   "source": [
    "def read_file(*args,file_type=\"csv\")->pd.DataFrame:\n",
    "    \"\"\":parameter input directories in sequence\n",
    "        :return DataFrame\"\"\"\n",
    "    \n",
    "    path=os.path.join(*args)\n",
    "    if file_type == \"tsv\":\n",
    "        return pd.read_csv(path, sep=\"\\t\")\n",
    "    return pd.read_csv(path)"
   ],
   "id": "1e503a0c037bec8",
   "outputs": [],
   "execution_count": 2
  },
  {
   "metadata": {},
   "cell_type": "markdown",
   "source": "# Experiments",
   "id": "7987d2b0c41e7fde"
  },
  {
   "metadata": {
    "ExecuteTime": {
     "end_time": "2024-10-19T07:56:28.525943Z",
     "start_time": "2024-10-19T07:56:28.522657Z"
    }
   },
   "cell_type": "code",
   "source": "mlflow.set_tracking_uri(\"http://127.0.0.1:5000/\")",
   "id": "b3cb055eff73b09c",
   "outputs": [],
   "execution_count": 3
  },
  {
   "metadata": {
    "ExecuteTime": {
     "end_time": "2024-10-19T07:56:34.724551Z",
     "start_time": "2024-10-19T07:56:34.685783Z"
    }
   },
   "cell_type": "code",
   "source": "mlflow.set_experiment(\"DifferentModelsExperiments2\")",
   "id": "64cf9b47a660fa8",
   "outputs": [
    {
     "data": {
      "text/plain": [
       "<Experiment: artifact_location='/home/spynom/mlruns/14', creation_time=1729323387786, experiment_id='14', last_update_time=1729323387786, lifecycle_stage='active', name='DifferentModelsExperiments2', tags={}>"
      ]
     },
     "execution_count": 4,
     "metadata": {},
     "output_type": "execute_result"
    }
   ],
   "execution_count": 4
  },
  {
   "metadata": {
    "ExecuteTime": {
     "end_time": "2024-10-19T07:56:45.032688Z",
     "start_time": "2024-10-19T07:56:37.666130Z"
    }
   },
   "cell_type": "code",
   "source": [
    "df=read_file(\"..\",\"data\",\"processed\",\"cleaned.csv\").dropna(how=\"any\").drop_duplicates()\n",
    "\n",
    "X=df.comment\n",
    "y=df.category+1\n",
    "\n",
    "X_train,X_test,y_train,y_test=train_test_split(X,y,test_size=0.2,random_state=42,stratify=y)\n",
    "\n",
    "ngram_range = (1, 3)  # Trigram setting\n",
    "max_features = 10000  # Set max_features to 1000 for TF-IDF\n",
    "\n",
    "# Vectorization using TF-IDF, fit on training data only\n",
    "vectorizer = TfidfVectorizer(ngram_range=ngram_range, max_features=max_features)\n",
    "vectorizer.fit(X)  # Fit on all vocab data\n",
    "X_train = vectorizer.transform(X_train)\n",
    "X_test = vectorizer.transform(X_test)  # Transform test data"
   ],
   "id": "3b78e6751ec10a64",
   "outputs": [],
   "execution_count": 5
  },
  {
   "metadata": {
    "ExecuteTime": {
     "end_time": "2024-10-19T07:56:45.050513Z",
     "start_time": "2024-10-19T07:56:45.042420Z"
    }
   },
   "cell_type": "code",
   "source": [
    "def log_mlflow(model_name, model, X_train, X_test, y_train, y_test):\n",
    "    with mlflow.start_run():\n",
    "        # Log model type\n",
    "        mlflow.set_tag(\"mlflow.runName\", f\"{model_name}_BalanceWeight_TFIDF_Trigrams\")\n",
    "        mlflow.set_tag(\"experiment_type\", \"algorithm_comparison\")\n",
    "\n",
    "        # Log algorithm name as a parameter\n",
    "        mlflow.log_param(\"algo_name\", model_name)\n",
    "\n",
    "        # Train model\n",
    "        model.fit(X_train, y_train)\n",
    "        train_y_pred=model.predict(X_train)\n",
    "        test_y_pred = model.predict(X_test)\n",
    "\n",
    "        # Log accuracy\n",
    "        train_accuracy = accuracy_score(y_train,train_y_pred)\n",
    "        test_accuracy = accuracy_score(y_test, test_y_pred)\n",
    "        \n",
    "        mlflow.log_metric(\"train_accuracy\", train_accuracy)\n",
    "        mlflow.log_metric(\"test_accuracy\", test_accuracy)\n",
    "\n",
    "        # Log classification report\n",
    "        classification_rep = classification_report(y_test, test_y_pred, output_dict=True)\n",
    "        for label, metrics in classification_rep.items():\n",
    "            if isinstance(metrics, dict):\n",
    "                for metric, value in metrics.items():\n",
    "                    mlflow.log_metric(f\"{label}_{metric}\", value)\n",
    "\n",
    "        # Log the model\n",
    "        mlflow.sklearn.log_model(model, f\"{model_name}_model\")"
   ],
   "id": "c1bf6f14d4778ab7",
   "outputs": [],
   "execution_count": 6
  },
  {
   "metadata": {
    "ExecuteTime": {
     "end_time": "2024-10-19T07:56:52.335865Z",
     "start_time": "2024-10-19T07:56:47.904070Z"
    }
   },
   "cell_type": "code",
   "source": [
    "def objective_mnb(trial):\n",
    "    alpha = trial.suggest_float('alpha', 1e-4, 1.0, log=True)  # Tuning the smoothing parameter\n",
    "\n",
    "    # MultinomialNB model setup\n",
    "    model = MultinomialNB(alpha=alpha)\n",
    "    return accuracy_score(y_test, model.fit(X_train, y_train).predict(X_test))\n",
    "\n",
    "\n",
    "# Step 7: Run Optuna for Multinomial Naive Bayes, log the best model only\n",
    "def run_optuna_experiment():\n",
    "    study = optuna.create_study(direction=\"maximize\")\n",
    "    study.optimize(objective_mnb, n_trials=30)\n",
    "\n",
    "    # Get the best parameters and log only the best model\n",
    "    best_params = study.best_params\n",
    "    best_model = MultinomialNB(alpha=best_params['alpha'])\n",
    "\n",
    "    # Log the best model with MLflow, passing the algo_name as \"MultinomialNB\"\n",
    "    log_mlflow(\"MultinomialNB\", best_model, X_train, X_test, y_train, y_test)\n",
    "\n",
    "# Run the experiment for Multinomial Naive Bayes\n",
    "run_optuna_experiment()"
   ],
   "id": "7e7721567e219ad8",
   "outputs": [
    {
     "name": "stderr",
     "output_type": "stream",
     "text": [
      "[I 2024-10-19 13:26:47,908] A new study created in memory with name: no-name-3e545b6e-cc0a-4a1b-8fbe-8b315abe1212\n",
      "[I 2024-10-19 13:26:47,929] Trial 0 finished with value: 0.64969646799117 and parameters: {'alpha': 0.35797507249719124}. Best is trial 0 with value: 0.64969646799117.\n",
      "[I 2024-10-19 13:26:47,946] Trial 1 finished with value: 0.641832229580574 and parameters: {'alpha': 0.5780388331428207}. Best is trial 0 with value: 0.64969646799117.\n",
      "[I 2024-10-19 13:26:47,959] Trial 2 finished with value: 0.6568708609271523 and parameters: {'alpha': 0.0004325629154443956}. Best is trial 2 with value: 0.6568708609271523.\n",
      "[I 2024-10-19 13:26:47,971] Trial 3 finished with value: 0.6564569536423841 and parameters: {'alpha': 0.0010396590066984262}. Best is trial 2 with value: 0.6568708609271523.\n",
      "[I 2024-10-19 13:26:47,982] Trial 4 finished with value: 0.6567328918322296 and parameters: {'alpha': 0.00016136814614759368}. Best is trial 2 with value: 0.6568708609271523.\n",
      "[I 2024-10-19 13:26:47,995] Trial 5 finished with value: 0.6564569536423841 and parameters: {'alpha': 0.0004953603213263319}. Best is trial 2 with value: 0.6568708609271523.\n",
      "[I 2024-10-19 13:26:48,007] Trial 6 finished with value: 0.6567328918322296 and parameters: {'alpha': 0.003296966312801792}. Best is trial 2 with value: 0.6568708609271523.\n",
      "[I 2024-10-19 13:26:48,022] Trial 7 finished with value: 0.6565949227373068 and parameters: {'alpha': 0.005246554649925671}. Best is trial 2 with value: 0.6568708609271523.\n",
      "[I 2024-10-19 13:26:48,034] Trial 8 finished with value: 0.6568708609271523 and parameters: {'alpha': 0.0004014746656137123}. Best is trial 2 with value: 0.6568708609271523.\n",
      "[I 2024-10-19 13:26:48,048] Trial 9 finished with value: 0.6564569536423841 and parameters: {'alpha': 0.0015561617275730408}. Best is trial 2 with value: 0.6568708609271523.\n",
      "[I 2024-10-19 13:26:48,066] Trial 10 finished with value: 0.6567328918322296 and parameters: {'alpha': 0.02182025166196295}. Best is trial 2 with value: 0.6568708609271523.\n",
      "[I 2024-10-19 13:26:48,084] Trial 11 finished with value: 0.6567328918322296 and parameters: {'alpha': 0.00013875563811428562}. Best is trial 2 with value: 0.6568708609271523.\n",
      "[I 2024-10-19 13:26:48,099] Trial 12 finished with value: 0.6564569536423841 and parameters: {'alpha': 0.02813879307526324}. Best is trial 2 with value: 0.6568708609271523.\n",
      "[I 2024-10-19 13:26:48,115] Trial 13 finished with value: 0.6568708609271523 and parameters: {'alpha': 0.0003495965527906892}. Best is trial 2 with value: 0.6568708609271523.\n",
      "[I 2024-10-19 13:26:48,130] Trial 14 finished with value: 0.6563189845474614 and parameters: {'alpha': 0.0008245010275792623}. Best is trial 2 with value: 0.6568708609271523.\n",
      "[I 2024-10-19 13:26:48,146] Trial 15 finished with value: 0.6561810154525386 and parameters: {'alpha': 0.0575294392041891}. Best is trial 2 with value: 0.6568708609271523.\n",
      "[I 2024-10-19 13:26:48,161] Trial 16 finished with value: 0.6568708609271523 and parameters: {'alpha': 0.00010717507028016842}. Best is trial 2 with value: 0.6568708609271523.\n",
      "[I 2024-10-19 13:26:48,180] Trial 17 finished with value: 0.6567328918322296 and parameters: {'alpha': 0.0032615256682074563}. Best is trial 2 with value: 0.6568708609271523.\n",
      "[I 2024-10-19 13:26:48,200] Trial 18 finished with value: 0.6568708609271523 and parameters: {'alpha': 0.0003792838328806989}. Best is trial 2 with value: 0.6568708609271523.\n",
      "[I 2024-10-19 13:26:48,220] Trial 19 finished with value: 0.6545253863134658 and parameters: {'alpha': 0.14363538577875534}. Best is trial 2 with value: 0.6568708609271523.\n",
      "[I 2024-10-19 13:26:48,244] Trial 20 finished with value: 0.6568708609271523 and parameters: {'alpha': 0.011378829358006536}. Best is trial 2 with value: 0.6568708609271523.\n",
      "[I 2024-10-19 13:26:48,268] Trial 21 finished with value: 0.6568708609271523 and parameters: {'alpha': 0.0003269697677834984}. Best is trial 2 with value: 0.6568708609271523.\n",
      "[I 2024-10-19 13:26:48,290] Trial 22 finished with value: 0.6564569536423841 and parameters: {'alpha': 0.0018724927751270367}. Best is trial 2 with value: 0.6568708609271523.\n",
      "[I 2024-10-19 13:26:48,305] Trial 23 finished with value: 0.6570088300220751 and parameters: {'alpha': 0.0002730595979464552}. Best is trial 23 with value: 0.6570088300220751.\n",
      "[I 2024-10-19 13:26:48,321] Trial 24 finished with value: 0.6563189845474614 and parameters: {'alpha': 0.0007174025540443305}. Best is trial 23 with value: 0.6570088300220751.\n",
      "[I 2024-10-19 13:26:48,341] Trial 25 finished with value: 0.6570088300220751 and parameters: {'alpha': 0.00026522372740757133}. Best is trial 23 with value: 0.6570088300220751.\n",
      "[I 2024-10-19 13:26:48,360] Trial 26 finished with value: 0.6570088300220751 and parameters: {'alpha': 0.00024072686832849648}. Best is trial 23 with value: 0.6570088300220751.\n",
      "[I 2024-10-19 13:26:48,378] Trial 27 finished with value: 0.6567328918322296 and parameters: {'alpha': 0.00016331571402299706}. Best is trial 23 with value: 0.6570088300220751.\n",
      "[I 2024-10-19 13:26:48,399] Trial 28 finished with value: 0.6570088300220751 and parameters: {'alpha': 0.0002450810374542426}. Best is trial 23 with value: 0.6570088300220751.\n",
      "[I 2024-10-19 13:26:48,417] Trial 29 finished with value: 0.6564569536423841 and parameters: {'alpha': 0.0017943502693450678}. Best is trial 23 with value: 0.6570088300220751.\n",
      "2024/10/19 13:26:52 WARNING mlflow.models.model: Model logged without a signature and input example. Please set `input_example` parameter when logging the model to auto infer the model signature.\n",
      "2024/10/19 13:26:52 INFO mlflow.tracking._tracking_service.client: 🏃 View run MultinomialNB_BalanceWeight_TFIDF_Trigrams at: http://127.0.0.1:5000/#/experiments/14/runs/8a61db2046844ecfab4e8c17e0b6c514.\n",
      "2024/10/19 13:26:52 INFO mlflow.tracking._tracking_service.client: 🧪 View experiment at: http://127.0.0.1:5000/#/experiments/14.\n"
     ]
    }
   ],
   "execution_count": 7
  }
 ],
 "metadata": {
  "kernelspec": {
   "display_name": "Python 3",
   "language": "python",
   "name": "python3"
  },
  "language_info": {
   "codemirror_mode": {
    "name": "ipython",
    "version": 2
   },
   "file_extension": ".py",
   "mimetype": "text/x-python",
   "name": "python",
   "nbconvert_exporter": "python",
   "pygments_lexer": "ipython2",
   "version": "2.7.6"
  }
 },
 "nbformat": 4,
 "nbformat_minor": 5
}
