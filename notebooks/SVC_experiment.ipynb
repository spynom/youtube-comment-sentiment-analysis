{
 "cells": [
  {
   "metadata": {},
   "cell_type": "markdown",
   "source": "# Import Libraries",
   "id": "173c93058f5b6081"
  },
  {
   "metadata": {
    "collapsed": true,
    "ExecuteTime": {
     "end_time": "2024-10-19T07:59:13.362780Z",
     "start_time": "2024-10-19T07:59:12.583857Z"
    }
   },
   "cell_type": "code",
   "source": [
    "import optuna\n",
    "import os\n",
    "import mlflow\n",
    "import mlflow.sklearn\n",
    "from sklearn.model_selection import train_test_split\n",
    "from sklearn.metrics import accuracy_score, classification_report\n",
    "from sklearn.feature_extraction.text import TfidfVectorizer\n",
    "from sklearn.svm import SVC\n",
    "import pandas as pd\n",
    "from sklearn.utils.class_weight import compute_class_weight\n",
    "import numpy as np"
   ],
   "id": "640e346162080815",
   "outputs": [],
   "execution_count": 1
  },
  {
   "metadata": {
    "ExecuteTime": {
     "end_time": "2024-10-19T07:59:13.453629Z",
     "start_time": "2024-10-19T07:59:13.447846Z"
    }
   },
   "cell_type": "code",
   "source": [
    "def read_file(*args,file_type=\"csv\")->pd.DataFrame:\n",
    "    \"\"\":parameter input directories in sequence\n",
    "        :return DataFrame\"\"\"\n",
    "    \n",
    "    path=os.path.join(*args)\n",
    "    if file_type == \"tsv\":\n",
    "        return pd.read_csv(path, sep=\"\\t\")\n",
    "    return pd.read_csv(path)"
   ],
   "id": "759254062b48792",
   "outputs": [],
   "execution_count": 2
  },
  {
   "metadata": {},
   "cell_type": "markdown",
   "source": "# Experiments",
   "id": "de4f4f123c5cb817"
  },
  {
   "metadata": {
    "ExecuteTime": {
     "end_time": "2024-10-19T07:59:13.770806Z",
     "start_time": "2024-10-19T07:59:13.767205Z"
    }
   },
   "cell_type": "code",
   "source": "mlflow.set_tracking_uri(\"http://127.0.0.1:5000/\")",
   "id": "4e643357f82c870c",
   "outputs": [],
   "execution_count": 3
  },
  {
   "metadata": {
    "ExecuteTime": {
     "end_time": "2024-10-19T07:59:13.884874Z",
     "start_time": "2024-10-19T07:59:13.812597Z"
    }
   },
   "cell_type": "code",
   "source": "mlflow.set_experiment(\"SVC hyper-parameters tuning\")",
   "id": "7f32f3e1cc18f111",
   "outputs": [
    {
     "name": "stderr",
     "output_type": "stream",
     "text": [
      "2024/10/19 13:29:13 INFO mlflow.tracking.fluent: Experiment with name 'SVC hyper-parameters tuning' does not exist. Creating a new experiment.\n"
     ]
    },
    {
     "data": {
      "text/plain": [
       "<Experiment: artifact_location='/home/spynom/mlruns/15', creation_time=1729324753858, experiment_id='15', last_update_time=1729324753858, lifecycle_stage='active', name='SVC hyper-parameters tuning', tags={}>"
      ]
     },
     "execution_count": 4,
     "metadata": {},
     "output_type": "execute_result"
    }
   ],
   "execution_count": 4
  },
  {
   "metadata": {
    "ExecuteTime": {
     "end_time": "2024-10-19T07:59:20.973029Z",
     "start_time": "2024-10-19T07:59:13.950622Z"
    }
   },
   "cell_type": "code",
   "source": [
    "df=read_file(\"..\",\"data\",\"processed\",\"cleaned.csv\").dropna(how=\"any\").drop_duplicates()\n",
    "\n",
    "X=df.comment\n",
    "y=df.category+1\n",
    "\n",
    "X_train,X_test,y_train,y_test=train_test_split(X,y,test_size=0.2,random_state=42,stratify=y)\n",
    "\n",
    "ngram_range = (1, 3)  # Trigram setting\n",
    "max_features = 10000  # Set max_features to 1000 for TF-IDF\n",
    "\n",
    "# Vectorization using TF-IDF, fit on training data only\n",
    "vectorizer = TfidfVectorizer(ngram_range=ngram_range, max_features=max_features)\n",
    "vectorizer.fit(X)  # Fit on all vocab data\n",
    "X_train = vectorizer.transform(X_train)\n",
    "X_test = vectorizer.transform(X_test)  # Transform test data"
   ],
   "id": "bae973df7aa0ad88",
   "outputs": [],
   "execution_count": 5
  },
  {
   "metadata": {
    "ExecuteTime": {
     "end_time": "2024-10-19T07:59:20.998041Z",
     "start_time": "2024-10-19T07:59:20.990639Z"
    }
   },
   "cell_type": "code",
   "source": [
    "\n",
    "class_weights = compute_class_weight('balanced', classes=np.array([0, 1, 2]), y=y_train)\n",
    "class_weights_dict = dict(enumerate(class_weights))"
   ],
   "id": "73dbcf06d8a542e",
   "outputs": [],
   "execution_count": 6
  },
  {
   "metadata": {
    "ExecuteTime": {
     "end_time": "2024-10-19T07:59:21.039438Z",
     "start_time": "2024-10-19T07:59:21.032142Z"
    }
   },
   "cell_type": "code",
   "source": [
    "def log_mlflow(model_name, model, X_train, X_test, y_train, y_test):\n",
    "    with mlflow.start_run():\n",
    "        # Log model type\n",
    "        mlflow.set_tag(\"mlflow.runName\", f\"{model_name}_BalanceWeight_TFIDF_Trigrams\")\n",
    "        mlflow.set_tag(\"experiment_type\", \"algorithm_comparison\")\n",
    "\n",
    "        # Log algorithm name as a parameter\n",
    "        mlflow.log_param(\"algo_name\", model_name)\n",
    "\n",
    "        # Train model\n",
    "        model.fit(X_train, y_train)\n",
    "        train_y_pred=model.predict(X_train)\n",
    "        test_y_pred = model.predict(X_test)\n",
    "\n",
    "        # Log accuracy\n",
    "        train_accuracy = accuracy_score(y_train,train_y_pred)\n",
    "        test_accuracy = accuracy_score(y_test, test_y_pred)\n",
    "        \n",
    "        mlflow.log_metric(\"train_accuracy\", train_accuracy)\n",
    "        mlflow.log_metric(\"test_accuracy\", test_accuracy)\n",
    "\n",
    "        # Log classification report\n",
    "        classification_rep = classification_report(y_test, test_y_pred, output_dict=True)\n",
    "        for label, metrics in classification_rep.items():\n",
    "            if isinstance(metrics, dict):\n",
    "                for metric, value in metrics.items():\n",
    "                    mlflow.log_metric(f\"{label}_{metric}\", value)\n",
    "\n",
    "        # Log the model\n",
    "        mlflow.sklearn.log_model(model, f\"{model_name}_model\")"
   ],
   "id": "3e4b7d6638cb4d3a",
   "outputs": [],
   "execution_count": 7
  },
  {
   "metadata": {
    "ExecuteTime": {
     "end_time": "2024-10-19T10:13:51.035709Z",
     "start_time": "2024-10-19T07:59:21.084940Z"
    }
   },
   "cell_type": "code",
   "source": [
    "def objective_svm(trial):\n",
    "    C = trial.suggest_float('C', 1e-4, 10.0, log=True)\n",
    "    kernel = trial.suggest_categorical('kernel', ['linear', 'rbf', 'poly'])\n",
    "\n",
    "    model = SVC(C=C, kernel=kernel, random_state=42,class_weight=class_weights_dict)\n",
    "    return accuracy_score(y_test, model.fit(X_train, y_train).predict(X_test))\n",
    "\n",
    "\n",
    "# Step 7: Run Optuna for SVM, log the best model only\n",
    "def run_optuna_experiment():\n",
    "    study = optuna.create_study(direction=\"maximize\")\n",
    "    study.optimize(objective_svm, n_trials=30)\n",
    "\n",
    "    # Get the best parameters and log only the best model\n",
    "    best_params = study.best_params\n",
    "    best_model = SVC(C=best_params['C'], kernel=best_params['kernel'], random_state=42,class_weight=class_weights_dict)\n",
    "\n",
    "    # Log the best model with MLflow, passing the algo_name as \"SVM\"\n",
    "    log_mlflow(\"SVM\", best_model, X_train, X_test, y_train, y_test)\n",
    "\n",
    "# Run the experiment for SVM\n",
    "run_optuna_experiment()"
   ],
   "id": "30f51560e17d5cbd",
   "outputs": [
    {
     "name": "stderr",
     "output_type": "stream",
     "text": [
      "[I 2024-10-19 13:29:21,089] A new study created in memory with name: no-name-3a504c32-f7ba-40de-b879-c5358c86564e\n",
      "[I 2024-10-19 13:33:58,292] Trial 0 finished with value: 0.5527041942604857 and parameters: {'C': 0.23453688461878391, 'kernel': 'poly'}. Best is trial 0 with value: 0.5527041942604857.\n",
      "[I 2024-10-19 13:38:00,745] Trial 1 finished with value: 0.432257174392936 and parameters: {'C': 0.000636829263462398, 'kernel': 'rbf'}. Best is trial 0 with value: 0.5527041942604857.\n",
      "[I 2024-10-19 13:48:58,576] Trial 2 finished with value: 0.6436258278145696 and parameters: {'C': 3.3532417215172865, 'kernel': 'poly'}. Best is trial 2 with value: 0.6436258278145696.\n",
      "[I 2024-10-19 13:57:51,971] Trial 3 finished with value: 0.8349889624724062 and parameters: {'C': 3.9020553231280917, 'kernel': 'rbf'}. Best is trial 3 with value: 0.8349889624724062.\n",
      "[I 2024-10-19 14:03:44,287] Trial 4 finished with value: 0.45626379690949226 and parameters: {'C': 0.07845896631052335, 'kernel': 'poly'}. Best is trial 3 with value: 0.8349889624724062.\n",
      "[I 2024-10-19 14:09:08,846] Trial 5 finished with value: 0.43584437086092714 and parameters: {'C': 0.028480010960640116, 'kernel': 'poly'}. Best is trial 3 with value: 0.8349889624724062.\n",
      "[I 2024-10-19 14:14:19,206] Trial 6 finished with value: 0.6030629139072847 and parameters: {'C': 0.040539129146565815, 'kernel': 'rbf'}. Best is trial 3 with value: 0.8349889624724062.\n",
      "[I 2024-10-19 14:19:07,168] Trial 7 finished with value: 0.8458885209713024 and parameters: {'C': 3.095495501494848, 'kernel': 'linear'}. Best is trial 7 with value: 0.8458885209713024.\n",
      "[I 2024-10-19 14:24:19,279] Trial 8 finished with value: 0.6065121412803532 and parameters: {'C': 0.04069470659067719, 'kernel': 'rbf'}. Best is trial 7 with value: 0.8458885209713024.\n",
      "[I 2024-10-19 14:29:17,625] Trial 9 finished with value: 0.432257174392936 and parameters: {'C': 0.000468987350120824, 'kernel': 'rbf'}. Best is trial 7 with value: 0.8458885209713024.\n",
      "[I 2024-10-19 14:32:16,401] Trial 10 finished with value: 0.8356788079470199 and parameters: {'C': 0.6966652801344971, 'kernel': 'linear'}. Best is trial 7 with value: 0.8458885209713024.\n",
      "[I 2024-10-19 14:35:06,878] Trial 11 finished with value: 0.8380242825607064 and parameters: {'C': 0.7416822624771098, 'kernel': 'linear'}. Best is trial 7 with value: 0.8458885209713024.\n",
      "[I 2024-10-19 14:39:40,745] Trial 12 finished with value: 0.8274006622516556 and parameters: {'C': 8.598244279236122, 'kernel': 'linear'}. Best is trial 7 with value: 0.8458885209713024.\n",
      "[I 2024-10-19 14:42:47,995] Trial 13 finished with value: 0.8460264900662252 and parameters: {'C': 0.9716630345564986, 'kernel': 'linear'}. Best is trial 13 with value: 0.8460264900662252.\n",
      "[I 2024-10-19 14:46:09,678] Trial 14 finished with value: 0.8494757174392936 and parameters: {'C': 1.1826507153836863, 'kernel': 'linear'}. Best is trial 14 with value: 0.8494757174392936.\n",
      "[I 2024-10-19 14:50:20,572] Trial 15 finished with value: 0.48247792494481234 and parameters: {'C': 0.005332669487449626, 'kernel': 'linear'}. Best is trial 14 with value: 0.8494757174392936.\n",
      "[I 2024-10-19 14:53:15,939] Trial 16 finished with value: 0.829332229580574 and parameters: {'C': 0.5433730275777052, 'kernel': 'linear'}. Best is trial 14 with value: 0.8494757174392936.\n",
      "[I 2024-10-19 14:57:40,092] Trial 17 finished with value: 0.5469094922737306 and parameters: {'C': 0.006926437028206553, 'kernel': 'linear'}. Best is trial 14 with value: 0.8494757174392936.\n",
      "[I 2024-10-19 15:01:03,574] Trial 18 finished with value: 0.7653145695364238 and parameters: {'C': 0.13705645232193975, 'kernel': 'linear'}. Best is trial 14 with value: 0.8494757174392936.\n",
      "[I 2024-10-19 15:04:31,988] Trial 19 finished with value: 0.8494757174392936 and parameters: {'C': 1.1030542562745205, 'kernel': 'linear'}. Best is trial 14 with value: 0.8494757174392936.\n",
      "[I 2024-10-19 15:09:08,986] Trial 20 finished with value: 0.5470474613686535 and parameters: {'C': 0.011603667511535652, 'kernel': 'linear'}. Best is trial 14 with value: 0.8494757174392936.\n",
      "[I 2024-10-19 15:12:46,228] Trial 21 finished with value: 0.8500275938189845 and parameters: {'C': 1.268309440289881, 'kernel': 'linear'}. Best is trial 21 with value: 0.8500275938189845.\n",
      "[I 2024-10-19 15:16:24,366] Trial 22 finished with value: 0.8522350993377483 and parameters: {'C': 1.6178489761486479, 'kernel': 'linear'}. Best is trial 22 with value: 0.8522350993377483.\n",
      "[I 2024-10-19 15:19:27,525] Trial 23 finished with value: 0.7948399558498896 and parameters: {'C': 0.22904609038546808, 'kernel': 'linear'}. Best is trial 22 with value: 0.8522350993377483.\n",
      "[I 2024-10-19 15:24:09,908] Trial 24 finished with value: 0.8262969094922737 and parameters: {'C': 9.26456456772424, 'kernel': 'linear'}. Best is trial 22 with value: 0.8522350993377483.\n",
      "[I 2024-10-19 15:27:13,610] Trial 25 finished with value: 0.8511313465783664 and parameters: {'C': 2.0725103952287522, 'kernel': 'linear'}. Best is trial 22 with value: 0.8522350993377483.\n",
      "[I 2024-10-19 15:30:20,297] Trial 26 finished with value: 0.8496136865342163 and parameters: {'C': 2.413151905531579, 'kernel': 'linear'}. Best is trial 22 with value: 0.8522350993377483.\n",
      "[I 2024-10-19 15:33:29,660] Trial 27 finished with value: 0.432257174392936 and parameters: {'C': 0.0017267481274909093, 'kernel': 'linear'}. Best is trial 22 with value: 0.8522350993377483.\n",
      "[I 2024-10-19 15:35:43,714] Trial 28 finished with value: 0.8189845474613686 and parameters: {'C': 0.3820038549678579, 'kernel': 'linear'}. Best is trial 22 with value: 0.8522350993377483.\n",
      "[I 2024-10-19 15:40:06,841] Trial 29 finished with value: 0.5527041942604857 and parameters: {'C': 0.23893363336410062, 'kernel': 'poly'}. Best is trial 22 with value: 0.8522350993377483.\n",
      "2024/10/19 15:43:50 WARNING mlflow.models.model: Model logged without a signature and input example. Please set `input_example` parameter when logging the model to auto infer the model signature.\n",
      "2024/10/19 15:43:51 INFO mlflow.tracking._tracking_service.client: 🏃 View run SVM_BalanceWeight_TFIDF_Trigrams at: http://127.0.0.1:5000/#/experiments/15/runs/e189121953594ec995e54970250b40c7.\n",
      "2024/10/19 15:43:51 INFO mlflow.tracking._tracking_service.client: 🧪 View experiment at: http://127.0.0.1:5000/#/experiments/15.\n"
     ]
    }
   ],
   "execution_count": 8
  }
 ],
 "metadata": {
  "kernelspec": {
   "display_name": "Python 3",
   "language": "python",
   "name": "python3"
  },
  "language_info": {
   "codemirror_mode": {
    "name": "ipython",
    "version": 2
   },
   "file_extension": ".py",
   "mimetype": "text/x-python",
   "name": "python",
   "nbconvert_exporter": "python",
   "pygments_lexer": "ipython2",
   "version": "2.7.6"
  }
 },
 "nbformat": 4,
 "nbformat_minor": 5
}
