{
 "cells": [
  {
   "metadata": {},
   "cell_type": "markdown",
   "source": "# Import libraries",
   "id": "c1b3246dcc0dcaee"
  },
  {
   "metadata": {
    "collapsed": true,
    "ExecuteTime": {
     "end_time": "2024-10-19T08:10:02.338694Z",
     "start_time": "2024-10-19T08:10:02.334490Z"
    }
   },
   "cell_type": "code",
   "source": [
    "import optuna\n",
    "import os\n",
    "import mlflow\n",
    "import mlflow.sklearn\n",
    "from sklearn.model_selection import train_test_split\n",
    "from sklearn.metrics import accuracy_score, classification_report\n",
    "from sklearn.feature_extraction.text import TfidfVectorizer\n",
    "from xgboost import XGBClassifier\n",
    "import pandas as pd"
   ],
   "id": "57491d6d02445aae",
   "outputs": [],
   "execution_count": 6
  },
  {
   "metadata": {
    "ExecuteTime": {
     "end_time": "2024-10-19T08:10:02.373933Z",
     "start_time": "2024-10-19T08:10:02.368764Z"
    }
   },
   "cell_type": "code",
   "source": [
    "def read_file(*args,file_type=\"csv\")->pd.DataFrame:\n",
    "    \"\"\":parameter input directories in sequence\n",
    "        :return DataFrame\"\"\"\n",
    "    \n",
    "    path=os.path.join(*args)\n",
    "    if file_type == \"tsv\":\n",
    "        return pd.read_csv(path, sep=\"\\t\")\n",
    "    return pd.read_csv(path)"
   ],
   "id": "9d6e9ab5d389706b",
   "outputs": [],
   "execution_count": 7
  },
  {
   "metadata": {},
   "cell_type": "markdown",
   "source": "# Experiments",
   "id": "45396fade1411cd"
  },
  {
   "metadata": {
    "ExecuteTime": {
     "end_time": "2024-10-19T08:10:02.424881Z",
     "start_time": "2024-10-19T08:10:02.420298Z"
    }
   },
   "cell_type": "code",
   "source": "mlflow.set_tracking_uri(\"http://127.0.0.1:5000/\")",
   "id": "33f44fc30efe3d75",
   "outputs": [],
   "execution_count": 8
  },
  {
   "metadata": {
    "ExecuteTime": {
     "end_time": "2024-10-19T08:10:02.519301Z",
     "start_time": "2024-10-19T08:10:02.502346Z"
    }
   },
   "cell_type": "code",
   "source": "mlflow.set_experiment(\"DifferentModelsExperiments2\")",
   "id": "e2a7658203df791c",
   "outputs": [
    {
     "data": {
      "text/plain": [
       "<Experiment: artifact_location='/home/spynom/mlruns/14', creation_time=1729323387786, experiment_id='14', last_update_time=1729323387786, lifecycle_stage='active', name='DifferentModelsExperiments2', tags={}>"
      ]
     },
     "execution_count": 9,
     "metadata": {},
     "output_type": "execute_result"
    }
   ],
   "execution_count": 9
  },
  {
   "metadata": {
    "ExecuteTime": {
     "end_time": "2024-10-19T08:10:11.498266Z",
     "start_time": "2024-10-19T08:10:02.822265Z"
    }
   },
   "cell_type": "code",
   "source": [
    "df=read_file(\"..\",\"data\",\"processed\",\"cleaned.csv\").dropna(how=\"any\").drop_duplicates()\n",
    "\n",
    "X=df.comment\n",
    "y=df.category+1\n",
    "\n",
    "X_train,X_test,y_train,y_test=train_test_split(X,y,test_size=0.2,random_state=42,stratify=y)\n",
    "\n",
    "ngram_range = (1, 3)  # Trigram setting\n",
    "max_features = 10000  # Set max_features to 1000 for TF-IDF\n",
    "\n",
    "# Vectorization using TF-IDF, fit on training data only\n",
    "vectorizer = TfidfVectorizer(ngram_range=ngram_range, max_features=max_features)\n",
    "vectorizer.fit(X)  # Fit on all vocab data\n",
    "X_train = vectorizer.transform(X_train)\n",
    "X_test = vectorizer.transform(X_test)  # Transform test data"
   ],
   "id": "683171fa6587338e",
   "outputs": [],
   "execution_count": 10
  },
  {
   "metadata": {
    "ExecuteTime": {
     "end_time": "2024-10-19T08:10:11.518155Z",
     "start_time": "2024-10-19T08:10:11.512711Z"
    }
   },
   "cell_type": "code",
   "source": [
    "def log_mlflow(model_name, model, X_train, X_test, y_train, y_test):\n",
    "    with mlflow.start_run():\n",
    "        # Log model type\n",
    "        mlflow.set_tag(\"mlflow.runName\", f\"{model_name}_BalanceWeight_TFIDF_Trigrams\")\n",
    "        mlflow.set_tag(\"experiment_type\", \"algorithm_comparison\")\n",
    "\n",
    "        # Log algorithm name as a parameter\n",
    "        mlflow.log_param(\"algo_name\", model_name)\n",
    "\n",
    "        # Train model\n",
    "        model.fit(X_train, y_train)\n",
    "        train_y_pred=model.predict(X_train)\n",
    "        test_y_pred = model.predict(X_test)\n",
    "\n",
    "        # Log accuracy\n",
    "        train_accuracy = accuracy_score(y_train,train_y_pred)\n",
    "        test_accuracy = accuracy_score(y_test, test_y_pred)\n",
    "        \n",
    "        mlflow.log_metric(\"train_accuracy\", train_accuracy)\n",
    "        mlflow.log_metric(\"test_accuracy\", test_accuracy)\n",
    "\n",
    "        # Log classification report\n",
    "        classification_rep = classification_report(y_test, test_y_pred, output_dict=True)\n",
    "        for label, metrics in classification_rep.items():\n",
    "            if isinstance(metrics, dict):\n",
    "                for metric, value in metrics.items():\n",
    "                    mlflow.log_metric(f\"{label}_{metric}\", value)\n",
    "\n",
    "        # Log the model\n",
    "        mlflow.sklearn.log_model(model, f\"{model_name}_model\")"
   ],
   "id": "d05effd1e8bd1adb",
   "outputs": [],
   "execution_count": 11
  },
  {
   "metadata": {
    "ExecuteTime": {
     "end_time": "2024-10-19T10:33:04.396237Z",
     "start_time": "2024-10-19T08:10:11.559821Z"
    }
   },
   "cell_type": "code",
   "source": [
    "# Step 6: Optuna objective function for XGBoost\n",
    "def objective_xgboost(trial):\n",
    "    n_estimators = trial.suggest_int('n_estimators', 50, 300)\n",
    "    learning_rate = trial.suggest_float('learning_rate', 1e-4, 1e-1, log=True)\n",
    "    max_depth = trial.suggest_int('max_depth', 3, 10)\n",
    "\n",
    "    model = XGBClassifier(n_estimators=n_estimators, learning_rate=learning_rate, max_depth=max_depth, random_state=42,)\n",
    "    return accuracy_score(y_test, model.fit(X_train, y_train).predict(X_test))\n",
    "\n",
    "\n",
    "# Step 7: Run Optuna for XGBoost, log the best model only\n",
    "def run_optuna_experiment():\n",
    "    study = optuna.create_study(direction=\"maximize\")\n",
    "    study.optimize(objective_xgboost, n_trials=30)\n",
    "\n",
    "    # Get the best parameters and log only the best model\n",
    "    best_params = study.best_params\n",
    "    best_model = XGBClassifier(n_estimators=best_params['n_estimators'], learning_rate=best_params['learning_rate'], max_depth=best_params['max_depth'], random_state=42)\n",
    "\n",
    "    # Log the best model with MLflow, passing the algo_name as \"xgboost\"\n",
    "    log_mlflow(\"XGBoost\", best_model, X_train, X_test, y_train, y_test)\n",
    "\n",
    "# Run the experiment for XGBoost\n",
    "run_optuna_experiment()"
   ],
   "id": "a7c3c91ccbeb07e7",
   "outputs": [
    {
     "name": "stderr",
     "output_type": "stream",
     "text": [
      "[I 2024-10-19 13:40:11,564] A new study created in memory with name: no-name-5b107e4d-9b5f-47f6-8df4-90f03147536a\n",
      "[I 2024-10-19 13:42:23,683] Trial 0 finished with value: 0.6757726269315674 and parameters: {'n_estimators': 93, 'learning_rate': 0.02729171320475009, 'max_depth': 6}. Best is trial 0 with value: 0.6757726269315674.\n",
      "[I 2024-10-19 13:44:27,778] Trial 1 finished with value: 0.6775662251655629 and parameters: {'n_estimators': 199, 'learning_rate': 0.029752519387702916, 'max_depth': 3}. Best is trial 1 with value: 0.6775662251655629.\n",
      "[I 2024-10-19 13:49:13,348] Trial 2 finished with value: 0.6531456953642384 and parameters: {'n_estimators': 100, 'learning_rate': 0.0014017443203125704, 'max_depth': 10}. Best is trial 1 with value: 0.6775662251655629.\n",
      "[I 2024-10-19 13:50:20,101] Trial 3 finished with value: 0.6313465783664459 and parameters: {'n_estimators': 75, 'learning_rate': 0.015259751801683447, 'max_depth': 4}. Best is trial 1 with value: 0.6775662251655629.\n",
      "[I 2024-10-19 13:55:57,308] Trial 4 finished with value: 0.7338576158940397 and parameters: {'n_estimators': 146, 'learning_rate': 0.03621216485708605, 'max_depth': 9}. Best is trial 4 with value: 0.7338576158940397.\n",
      "[I 2024-10-19 14:03:10,310] Trial 5 finished with value: 0.63810706401766 and parameters: {'n_estimators': 175, 'learning_rate': 0.0007109104344811357, 'max_depth': 9}. Best is trial 4 with value: 0.7338576158940397.\n",
      "[I 2024-10-19 14:08:34,568] Trial 6 finished with value: 0.7567604856512141 and parameters: {'n_estimators': 153, 'learning_rate': 0.05223222871149362, 'max_depth': 9}. Best is trial 6 with value: 0.7567604856512141.\n",
      "[I 2024-10-19 14:09:24,556] Trial 7 finished with value: 0.5382174392935982 and parameters: {'n_estimators': 76, 'learning_rate': 0.0001331540218806832, 'max_depth': 3}. Best is trial 6 with value: 0.7567604856512141.\n",
      "[I 2024-10-19 14:13:39,472] Trial 8 finished with value: 0.6018211920529801 and parameters: {'n_estimators': 280, 'learning_rate': 0.0017987320666793284, 'max_depth': 4}. Best is trial 6 with value: 0.7567604856512141.\n",
      "[I 2024-10-19 14:19:52,759] Trial 9 finished with value: 0.6899834437086093 and parameters: {'n_estimators': 148, 'learning_rate': 0.015463752191263485, 'max_depth': 9}. Best is trial 6 with value: 0.7567604856512141.\n",
      "[I 2024-10-19 14:26:32,043] Trial 10 finished with value: 0.7913907284768212 and parameters: {'n_estimators': 259, 'learning_rate': 0.07908294347171924, 'max_depth': 7}. Best is trial 10 with value: 0.7913907284768212.\n",
      "[I 2024-10-19 14:31:56,715] Trial 11 finished with value: 0.7935982339955849 and parameters: {'n_estimators': 262, 'learning_rate': 0.0961150445715199, 'max_depth': 6}. Best is trial 11 with value: 0.7935982339955849.\n",
      "[I 2024-10-19 14:38:53,808] Trial 12 finished with value: 0.8038079470198676 and parameters: {'n_estimators': 288, 'learning_rate': 0.09847708080913907, 'max_depth': 7}. Best is trial 12 with value: 0.8038079470198676.\n",
      "[I 2024-10-19 14:44:45,730] Trial 13 finished with value: 0.6572847682119205 and parameters: {'n_estimators': 247, 'learning_rate': 0.006060889928026846, 'max_depth': 6}. Best is trial 12 with value: 0.8038079470198676.\n",
      "[I 2024-10-19 14:52:16,911] Trial 14 finished with value: 0.7966335540838853 and parameters: {'n_estimators': 300, 'learning_rate': 0.08121403071891647, 'max_depth': 7}. Best is trial 12 with value: 0.8038079470198676.\n",
      "[I 2024-10-19 14:58:44,937] Trial 15 finished with value: 0.670667770419426 and parameters: {'n_estimators': 217, 'learning_rate': 0.007909214218452846, 'max_depth': 7}. Best is trial 12 with value: 0.8038079470198676.\n",
      "[I 2024-10-19 15:09:35,755] Trial 16 finished with value: 0.6219646799116998 and parameters: {'n_estimators': 298, 'learning_rate': 0.0002817397834452403, 'max_depth': 8}. Best is trial 12 with value: 0.8038079470198676.\n",
      "[I 2024-10-19 15:14:03,248] Trial 17 finished with value: 0.6400386313465783 and parameters: {'n_estimators': 230, 'learning_rate': 0.004317277199052457, 'max_depth': 5}. Best is trial 12 with value: 0.8038079470198676.\n",
      "[I 2024-10-19 15:23:44,847] Trial 18 finished with value: 0.7167494481236203 and parameters: {'n_estimators': 297, 'learning_rate': 0.01466808873926118, 'max_depth': 8}. Best is trial 12 with value: 0.8038079470198676.\n",
      "[I 2024-10-19 15:29:43,685] Trial 19 finished with value: 0.7795253863134658 and parameters: {'n_estimators': 277, 'learning_rate': 0.05721016274039191, 'max_depth': 7}. Best is trial 12 with value: 0.8038079470198676.\n",
      "[I 2024-10-19 15:33:06,180] Trial 20 finished with value: 0.7818708609271523 and parameters: {'n_estimators': 230, 'learning_rate': 0.09975195701226423, 'max_depth': 5}. Best is trial 12 with value: 0.8038079470198676.\n",
      "[I 2024-10-19 15:37:39,722] Trial 21 finished with value: 0.7862858719646799 and parameters: {'n_estimators': 255, 'learning_rate': 0.08406764259183948, 'max_depth': 6}. Best is trial 12 with value: 0.8038079470198676.\n",
      "[I 2024-10-19 15:44:02,346] Trial 22 finished with value: 0.7575883002207505 and parameters: {'n_estimators': 269, 'learning_rate': 0.03516489951713454, 'max_depth': 8}. Best is trial 12 with value: 0.8038079470198676.\n",
      "[I 2024-10-19 15:45:34,726] Trial 23 finished with value: 0.7608995584988962 and parameters: {'n_estimators': 297, 'learning_rate': 0.05401911285310934, 'max_depth': 5}. Best is trial 12 with value: 0.8038079470198676.\n",
      "[I 2024-10-19 15:47:22,598] Trial 24 finished with value: 0.7970474613686535 and parameters: {'n_estimators': 245, 'learning_rate': 0.09696504028572454, 'max_depth': 7}. Best is trial 12 with value: 0.8038079470198676.\n",
      "[I 2024-10-19 15:49:44,985] Trial 25 finished with value: 0.7167494481236203 and parameters: {'n_estimators': 240, 'learning_rate': 0.02092161674257985, 'max_depth': 7}. Best is trial 12 with value: 0.8038079470198676.\n",
      "[I 2024-10-19 15:52:28,365] Trial 26 finished with value: 0.7600717439293598 and parameters: {'n_estimators': 207, 'learning_rate': 0.04733564711434959, 'max_depth': 8}. Best is trial 12 with value: 0.8038079470198676.\n",
      "[I 2024-10-19 15:55:53,705] Trial 27 finished with value: 0.6801876379690949 and parameters: {'n_estimators': 281, 'learning_rate': 0.009064893850668962, 'max_depth': 7}. Best is trial 12 with value: 0.8038079470198676.\n",
      "[I 2024-10-19 15:59:30,592] Trial 28 finished with value: 0.6485927152317881 and parameters: {'n_estimators': 187, 'learning_rate': 0.0022906333190652393, 'max_depth': 8}. Best is trial 12 with value: 0.8038079470198676.\n",
      "[I 2024-10-19 16:00:38,245] Trial 29 finished with value: 0.6810154525386314 and parameters: {'n_estimators': 119, 'learning_rate': 0.02518521164360726, 'max_depth': 6}. Best is trial 12 with value: 0.8038079470198676.\n",
      "2024/10/19 16:03:04 WARNING mlflow.models.model: Model logged without a signature and input example. Please set `input_example` parameter when logging the model to auto infer the model signature.\n",
      "2024/10/19 16:03:04 INFO mlflow.tracking._tracking_service.client: 🏃 View run XGBoost_BalanceWeight_TFIDF_Trigrams at: http://127.0.0.1:5000/#/experiments/14/runs/036db6ff6fa144d19731d63e21a2fb03.\n",
      "2024/10/19 16:03:04 INFO mlflow.tracking._tracking_service.client: 🧪 View experiment at: http://127.0.0.1:5000/#/experiments/14.\n"
     ]
    }
   ],
   "execution_count": 12
  }
 ],
 "metadata": {
  "kernelspec": {
   "display_name": "Python 3",
   "language": "python",
   "name": "python3"
  },
  "language_info": {
   "codemirror_mode": {
    "name": "ipython",
    "version": 2
   },
   "file_extension": ".py",
   "mimetype": "text/x-python",
   "name": "python",
   "nbconvert_exporter": "python",
   "pygments_lexer": "ipython2",
   "version": "2.7.6"
  }
 },
 "nbformat": 4,
 "nbformat_minor": 5
}
