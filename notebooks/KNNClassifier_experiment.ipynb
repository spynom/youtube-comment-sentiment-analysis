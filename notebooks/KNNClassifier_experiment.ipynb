{
 "cells": [
  {
   "metadata": {},
   "cell_type": "markdown",
   "source": "# Import Libraries",
   "id": "d55996515b234c2"
  },
  {
   "metadata": {
    "collapsed": true,
    "ExecuteTime": {
     "end_time": "2024-10-19T07:36:06.338079Z",
     "start_time": "2024-10-19T07:36:05.542780Z"
    }
   },
   "cell_type": "code",
   "source": [
    "import optuna\n",
    "import os\n",
    "import mlflow\n",
    "import mlflow.sklearn\n",
    "from sklearn.model_selection import train_test_split\n",
    "from sklearn.metrics import accuracy_score, classification_report\n",
    "from sklearn.feature_extraction.text import TfidfVectorizer\n",
    "from sklearn.neighbors import KNeighborsClassifier\n",
    "import pandas as pd\n",
    "from sklearn.utils.class_weight import compute_class_weight\n",
    "import numpy as np"
   ],
   "id": "e805bcc13e836f28",
   "outputs": [],
   "execution_count": 1
  },
  {
   "metadata": {
    "ExecuteTime": {
     "end_time": "2024-10-19T07:36:17.784407Z",
     "start_time": "2024-10-19T07:36:17.780164Z"
    }
   },
   "cell_type": "code",
   "source": [
    "def read_file(*args,file_type=\"csv\")->pd.DataFrame:\n",
    "    \"\"\":parameter input directories in sequence\n",
    "        :return DataFrame\"\"\"\n",
    "    \n",
    "    path=os.path.join(*args)\n",
    "    if file_type == \"tsv\":\n",
    "        return pd.read_csv(path, sep=\"\\t\")\n",
    "    return pd.read_csv(path)"
   ],
   "id": "dac95623000c6cc3",
   "outputs": [],
   "execution_count": 2
  },
  {
   "metadata": {},
   "cell_type": "markdown",
   "source": "# Experiments",
   "id": "632a9bcd0506cc85"
  },
  {
   "metadata": {
    "ExecuteTime": {
     "end_time": "2024-10-19T07:36:25.008935Z",
     "start_time": "2024-10-19T07:36:25.005318Z"
    }
   },
   "cell_type": "code",
   "source": "mlflow.set_tracking_uri(\"http://127.0.0.1:5000/\")",
   "id": "787ddfbdc41251ed",
   "outputs": [],
   "execution_count": 3
  },
  {
   "metadata": {
    "ExecuteTime": {
     "end_time": "2024-10-19T07:36:27.810835Z",
     "start_time": "2024-10-19T07:36:27.737698Z"
    }
   },
   "cell_type": "code",
   "source": "mlflow.set_experiment(\"DifferentModelsExperiments2\")",
   "id": "b9d51e5b4d934aaf",
   "outputs": [
    {
     "name": "stderr",
     "output_type": "stream",
     "text": [
      "2024/10/19 13:06:27 INFO mlflow.tracking.fluent: Experiment with name 'DifferentModelsExperiments2' does not exist. Creating a new experiment.\n"
     ]
    },
    {
     "data": {
      "text/plain": [
       "<Experiment: artifact_location='/home/spynom/mlruns/14', creation_time=1729323387786, experiment_id='14', last_update_time=1729323387786, lifecycle_stage='active', name='DifferentModelsExperiments2', tags={}>"
      ]
     },
     "execution_count": 4,
     "metadata": {},
     "output_type": "execute_result"
    }
   ],
   "execution_count": 4
  },
  {
   "metadata": {
    "ExecuteTime": {
     "end_time": "2024-10-19T07:36:37.666783Z",
     "start_time": "2024-10-19T07:36:30.473843Z"
    }
   },
   "cell_type": "code",
   "source": [
    "df=read_file(\"..\",\"data\",\"processed\",\"cleaned.csv\").dropna(how=\"any\").drop_duplicates()\n",
    "\n",
    "X=df.comment\n",
    "y=df.category+1\n",
    "\n",
    "X_train,X_test,y_train,y_test=train_test_split(X,y,test_size=0.2,random_state=42,stratify=y)\n",
    "\n",
    "ngram_range = (1, 3)  # Trigram setting\n",
    "max_features = 10000  # Set max_features to 1000 for TF-IDF\n",
    "\n",
    "# Vectorization using TF-IDF, fit on training data only\n",
    "vectorizer = TfidfVectorizer(ngram_range=ngram_range, max_features=max_features)\n",
    "vectorizer.fit(X)  # Fit on all vocab data\n",
    "X_train = vectorizer.transform(X_train)\n",
    "X_test = vectorizer.transform(X_test)  # Transform test data"
   ],
   "id": "66f3c0cea6dae5c6",
   "outputs": [],
   "execution_count": 5
  },
  {
   "metadata": {
    "ExecuteTime": {
     "end_time": "2024-10-19T07:36:46.541950Z",
     "start_time": "2024-10-19T07:36:46.525763Z"
    }
   },
   "cell_type": "code",
   "source": [
    "\n",
    "class_weights = compute_class_weight('balanced', classes=np.array([0, 1, 2]), y=y_train)\n",
    "class_weights_dict = dict(enumerate(class_weights))"
   ],
   "id": "f74be9040c95e716",
   "outputs": [],
   "execution_count": 6
  },
  {
   "metadata": {
    "ExecuteTime": {
     "end_time": "2024-10-19T07:44:07.770604Z",
     "start_time": "2024-10-19T07:44:07.763244Z"
    }
   },
   "cell_type": "code",
   "source": [
    "def log_mlflow(model_name, model, X_train, X_test, y_train, y_test):\n",
    "    with mlflow.start_run():\n",
    "        # Log model type\n",
    "        mlflow.set_tag(\"mlflow.runName\", f\"{model_name}_BalanceWeight_TFIDF_Trigrams\")\n",
    "        mlflow.set_tag(\"experiment_type\", \"algorithm_comparison\")\n",
    "\n",
    "        # Log algorithm name as a parameter\n",
    "        mlflow.log_param(\"algo_name\", model_name)\n",
    "\n",
    "        # Train model\n",
    "        model.fit(X_train, y_train)\n",
    "        train_y_pred=model.predict(X_train)\n",
    "        test_y_pred = model.predict(X_test)\n",
    "\n",
    "        # Log accuracy\n",
    "        train_accuracy = accuracy_score(y_train,train_y_pred)\n",
    "        test_accuracy = accuracy_score(y_test, test_y_pred)\n",
    "        \n",
    "        mlflow.log_metric(\"train_accuracy\", train_accuracy)\n",
    "        mlflow.log_metric(\"test_accuracy\", test_accuracy)\n",
    "\n",
    "        # Log classification report\n",
    "        classification_rep = classification_report(y_test, test_y_pred, output_dict=True)\n",
    "        for label, metrics in classification_rep.items():\n",
    "            if isinstance(metrics, dict):\n",
    "                for metric, value in metrics.items():\n",
    "                    mlflow.log_metric(f\"{label}_{metric}\", value)\n",
    "\n",
    "        # Log the model\n",
    "        mlflow.sklearn.log_model(model, f\"{model_name}_model\")\n"
   ],
   "id": "3b16cec5c39bc3fe",
   "outputs": [],
   "execution_count": 10
  },
  {
   "metadata": {
    "ExecuteTime": {
     "end_time": "2024-10-19T07:52:00.813600Z",
     "start_time": "2024-10-19T07:44:14.561589Z"
    }
   },
   "cell_type": "code",
   "source": [
    "def objective_knn(trial):\n",
    "    n_neighbors = trial.suggest_int('n_neighbors', 3, 30)  # Tuning the number of neighbors\n",
    "    p = trial.suggest_categorical('p', [1, 2])  # Tuning the distance metric (1 for Manhattan, 2 for Euclidean)\n",
    "\n",
    "    # KNeighborsClassifier setup\n",
    "    model = KNeighborsClassifier(n_neighbors=n_neighbors, p=p)\n",
    "    return accuracy_score(y_test, model.fit(X_train, y_train).predict(X_test))\n",
    "\n",
    "\n",
    "# Step 7: Run Optuna for KNN, log the best model only\n",
    "def run_optuna_experiment():\n",
    "    study = optuna.create_study(direction=\"maximize\")\n",
    "    study.optimize(objective_knn, n_trials=30)\n",
    "\n",
    "    # Get the best parameters and log only the best model\n",
    "    best_params = study.best_params\n",
    "    best_model = KNeighborsClassifier(n_neighbors=best_params['n_neighbors'], p=best_params['p'])\n",
    "\n",
    "    # Log the best model with MLflow, passing the algo_name as \"KNN\"\n",
    "    log_mlflow(\"KNN\", best_model, X_train, X_test, y_train, y_test)\n",
    "\n",
    "# Run the experiment for KNN\n",
    "run_optuna_experiment()"
   ],
   "id": "70d58b60aec55e1c",
   "outputs": [
    {
     "name": "stderr",
     "output_type": "stream",
     "text": [
      "[I 2024-10-19 13:14:14,565] A new study created in memory with name: no-name-a0d54948-1137-4aac-8552-055f6a3b2410\n",
      "[I 2024-10-19 13:14:21,090] Trial 0 finished with value: 0.36258278145695366 and parameters: {'n_neighbors': 11, 'p': 2}. Best is trial 0 with value: 0.36258278145695366.\n",
      "[I 2024-10-19 13:14:27,558] Trial 1 finished with value: 0.3511313465783664 and parameters: {'n_neighbors': 20, 'p': 2}. Best is trial 0 with value: 0.36258278145695366.\n",
      "[I 2024-10-19 13:14:42,368] Trial 2 finished with value: 0.37375827814569534 and parameters: {'n_neighbors': 5, 'p': 1}. Best is trial 2 with value: 0.37375827814569534.\n",
      "[I 2024-10-19 13:14:50,154] Trial 3 finished with value: 0.36258278145695366 and parameters: {'n_neighbors': 11, 'p': 2}. Best is trial 2 with value: 0.37375827814569534.\n",
      "[I 2024-10-19 13:14:57,400] Trial 4 finished with value: 0.35471854304635764 and parameters: {'n_neighbors': 17, 'p': 2}. Best is trial 2 with value: 0.37375827814569534.\n",
      "[I 2024-10-19 13:15:05,054] Trial 5 finished with value: 0.35471854304635764 and parameters: {'n_neighbors': 17, 'p': 2}. Best is trial 2 with value: 0.37375827814569534.\n",
      "[I 2024-10-19 13:15:21,297] Trial 6 finished with value: 0.3435430463576159 and parameters: {'n_neighbors': 29, 'p': 1}. Best is trial 2 with value: 0.37375827814569534.\n",
      "[I 2024-10-19 13:15:29,033] Trial 7 finished with value: 0.3576158940397351 and parameters: {'n_neighbors': 14, 'p': 2}. Best is trial 2 with value: 0.37375827814569534.\n",
      "[I 2024-10-19 13:15:36,607] Trial 8 finished with value: 0.3745860927152318 and parameters: {'n_neighbors': 6, 'p': 2}. Best is trial 8 with value: 0.3745860927152318.\n",
      "[I 2024-10-19 13:15:52,162] Trial 9 finished with value: 0.3487858719646799 and parameters: {'n_neighbors': 16, 'p': 1}. Best is trial 8 with value: 0.3745860927152318.\n",
      "[I 2024-10-19 13:16:05,960] Trial 10 finished with value: 0.38355408388520973 and parameters: {'n_neighbors': 3, 'p': 1}. Best is trial 10 with value: 0.38355408388520973.\n",
      "[I 2024-10-19 13:16:19,528] Trial 11 finished with value: 0.3758278145695364 and parameters: {'n_neighbors': 4, 'p': 1}. Best is trial 10 with value: 0.38355408388520973.\n",
      "[I 2024-10-19 13:16:34,873] Trial 12 finished with value: 0.3758278145695364 and parameters: {'n_neighbors': 4, 'p': 1}. Best is trial 10 with value: 0.38355408388520973.\n",
      "[I 2024-10-19 13:16:49,296] Trial 13 finished with value: 0.38355408388520973 and parameters: {'n_neighbors': 3, 'p': 1}. Best is trial 10 with value: 0.38355408388520973.\n",
      "[I 2024-10-19 13:17:03,113] Trial 14 finished with value: 0.3598233995584989 and parameters: {'n_neighbors': 9, 'p': 1}. Best is trial 10 with value: 0.38355408388520973.\n",
      "[I 2024-10-19 13:17:18,126] Trial 15 finished with value: 0.34450883002207505 and parameters: {'n_neighbors': 23, 'p': 1}. Best is trial 10 with value: 0.38355408388520973.\n",
      "[I 2024-10-19 13:17:32,279] Trial 16 finished with value: 0.37113686534216334 and parameters: {'n_neighbors': 7, 'p': 1}. Best is trial 10 with value: 0.38355408388520973.\n",
      "[I 2024-10-19 13:17:46,474] Trial 17 finished with value: 0.38355408388520973 and parameters: {'n_neighbors': 3, 'p': 1}. Best is trial 10 with value: 0.38355408388520973.\n",
      "[I 2024-10-19 13:17:59,916] Trial 18 finished with value: 0.3598233995584989 and parameters: {'n_neighbors': 9, 'p': 1}. Best is trial 10 with value: 0.38355408388520973.\n",
      "[I 2024-10-19 13:18:15,051] Trial 19 finished with value: 0.34368101545253865 and parameters: {'n_neighbors': 26, 'p': 1}. Best is trial 10 with value: 0.38355408388520973.\n",
      "[I 2024-10-19 13:18:28,956] Trial 20 finished with value: 0.3538907284768212 and parameters: {'n_neighbors': 13, 'p': 1}. Best is trial 10 with value: 0.38355408388520973.\n",
      "[I 2024-10-19 13:18:43,851] Trial 21 finished with value: 0.38355408388520973 and parameters: {'n_neighbors': 3, 'p': 1}. Best is trial 10 with value: 0.38355408388520973.\n",
      "[I 2024-10-19 13:18:59,459] Trial 22 finished with value: 0.37113686534216334 and parameters: {'n_neighbors': 7, 'p': 1}. Best is trial 10 with value: 0.38355408388520973.\n",
      "[I 2024-10-19 13:19:13,414] Trial 23 finished with value: 0.38355408388520973 and parameters: {'n_neighbors': 3, 'p': 1}. Best is trial 10 with value: 0.38355408388520973.\n",
      "[I 2024-10-19 13:19:29,510] Trial 24 finished with value: 0.37113686534216334 and parameters: {'n_neighbors': 7, 'p': 1}. Best is trial 10 with value: 0.38355408388520973.\n",
      "[I 2024-10-19 13:19:44,802] Trial 25 finished with value: 0.3598233995584989 and parameters: {'n_neighbors': 9, 'p': 1}. Best is trial 10 with value: 0.38355408388520973.\n",
      "[I 2024-10-19 13:19:59,228] Trial 26 finished with value: 0.38355408388520973 and parameters: {'n_neighbors': 3, 'p': 1}. Best is trial 10 with value: 0.38355408388520973.\n",
      "[I 2024-10-19 13:20:14,104] Trial 27 finished with value: 0.366583885209713 and parameters: {'n_neighbors': 6, 'p': 1}. Best is trial 10 with value: 0.38355408388520973.\n",
      "[I 2024-10-19 13:20:29,822] Trial 28 finished with value: 0.3549944812362031 and parameters: {'n_neighbors': 11, 'p': 1}. Best is trial 10 with value: 0.38355408388520973.\n",
      "[I 2024-10-19 13:20:44,490] Trial 29 finished with value: 0.35996136865342165 and parameters: {'n_neighbors': 8, 'p': 1}. Best is trial 10 with value: 0.38355408388520973.\n",
      "2024/10/19 13:22:00 WARNING mlflow.models.model: Model logged without a signature and input example. Please set `input_example` parameter when logging the model to auto infer the model signature.\n",
      "2024/10/19 13:22:00 INFO mlflow.tracking._tracking_service.client: 🏃 View run KNN_BalanceWeight_TFIDF_Trigrams at: http://127.0.0.1:5000/#/experiments/14/runs/ca4d2f0efa5a4f0e9065010fa2bc9c43.\n",
      "2024/10/19 13:22:00 INFO mlflow.tracking._tracking_service.client: 🧪 View experiment at: http://127.0.0.1:5000/#/experiments/14.\n"
     ]
    }
   ],
   "execution_count": 11
  }
 ],
 "metadata": {
  "kernelspec": {
   "display_name": "Python 3",
   "language": "python",
   "name": "python3"
  },
  "language_info": {
   "codemirror_mode": {
    "name": "ipython",
    "version": 2
   },
   "file_extension": ".py",
   "mimetype": "text/x-python",
   "name": "python",
   "nbconvert_exporter": "python",
   "pygments_lexer": "ipython2",
   "version": "2.7.6"
  }
 },
 "nbformat": 4,
 "nbformat_minor": 5
}
