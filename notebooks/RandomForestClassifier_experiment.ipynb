{
 "cells": [
  {
   "metadata": {},
   "cell_type": "markdown",
   "source": "# Import Libraries",
   "id": "80724852ab714cf5"
  },
  {
   "metadata": {
    "collapsed": true,
    "ExecuteTime": {
     "end_time": "2024-10-19T07:58:39.748898Z",
     "start_time": "2024-10-19T07:58:39.078516Z"
    }
   },
   "cell_type": "code",
   "source": [
    "import optuna\n",
    "import os\n",
    "import mlflow\n",
    "import mlflow.sklearn\n",
    "from sklearn.model_selection import train_test_split\n",
    "from sklearn.metrics import accuracy_score, classification_report\n",
    "from sklearn.feature_extraction.text import TfidfVectorizer\n",
    "from sklearn.ensemble import RandomForestClassifier\n",
    "import pandas as pd\n",
    "from sklearn.utils.class_weight import compute_class_weight\n",
    "import numpy as np"
   ],
   "id": "224891a74e16c2db",
   "outputs": [],
   "execution_count": 1
  },
  {
   "metadata": {
    "ExecuteTime": {
     "end_time": "2024-10-19T07:58:39.757129Z",
     "start_time": "2024-10-19T07:58:39.753018Z"
    }
   },
   "cell_type": "code",
   "source": [
    "def read_file(*args,file_type=\"csv\")->pd.DataFrame:\n",
    "    \"\"\":parameter input directories in sequence\n",
    "        :return DataFrame\"\"\"\n",
    "    \n",
    "    path=os.path.join(*args)\n",
    "    if file_type == \"tsv\":\n",
    "        return pd.read_csv(path, sep=\"\\t\")\n",
    "    return pd.read_csv(path)"
   ],
   "id": "809441f5936c436e",
   "outputs": [],
   "execution_count": 2
  },
  {
   "metadata": {},
   "cell_type": "markdown",
   "source": "# Experiments",
   "id": "9311a7b9afa4c63f"
  },
  {
   "metadata": {
    "ExecuteTime": {
     "end_time": "2024-10-19T07:58:40.018203Z",
     "start_time": "2024-10-19T07:58:40.014947Z"
    }
   },
   "cell_type": "code",
   "source": "mlflow.set_tracking_uri(\"http://127.0.0.1:5000/\")",
   "id": "a8db2d92c7c42604",
   "outputs": [],
   "execution_count": 3
  },
  {
   "metadata": {
    "ExecuteTime": {
     "end_time": "2024-10-19T07:58:40.146249Z",
     "start_time": "2024-10-19T07:58:40.112214Z"
    }
   },
   "cell_type": "code",
   "source": "mlflow.set_experiment(\"DifferentModelsExperiments\")",
   "id": "3f85a9cfcea254eb",
   "outputs": [
    {
     "data": {
      "text/plain": [
       "<Experiment: artifact_location='/home/spynom/mlruns/1', creation_time=1729003215400, experiment_id='1', last_update_time=1729003215400, lifecycle_stage='active', name='DifferentModelsExperiments', tags={}>"
      ]
     },
     "execution_count": 4,
     "metadata": {},
     "output_type": "execute_result"
    }
   ],
   "execution_count": 4
  },
  {
   "metadata": {
    "ExecuteTime": {
     "end_time": "2024-10-19T07:58:46.646623Z",
     "start_time": "2024-10-19T07:58:40.156730Z"
    }
   },
   "cell_type": "code",
   "source": [
    "df=read_file(\"..\",\"data\",\"processed\",\"cleaned.csv\").dropna(how=\"any\").drop_duplicates()\n",
    "\n",
    "X=df.comment\n",
    "y=df.category+1\n",
    "\n",
    "X_train,X_test,y_train,y_test=train_test_split(X,y,test_size=0.2,random_state=42,stratify=y)\n",
    "\n",
    "ngram_range = (1, 3)  # Trigram setting\n",
    "max_features = 10000  # Set max_features to 1000 for TF-IDF\n",
    "\n",
    "# Vectorization using TF-IDF, fit on training data only\n",
    "vectorizer = TfidfVectorizer(ngram_range=ngram_range, max_features=max_features)\n",
    "vectorizer.fit(X)  # Fit on all vocab data\n",
    "X_train = vectorizer.transform(X_train)\n",
    "X_test = vectorizer.transform(X_test)  # Transform test data"
   ],
   "id": "55c64570a6b3498",
   "outputs": [],
   "execution_count": 5
  },
  {
   "metadata": {
    "ExecuteTime": {
     "end_time": "2024-10-19T07:58:46.665550Z",
     "start_time": "2024-10-19T07:58:46.658536Z"
    }
   },
   "cell_type": "code",
   "source": [
    "\n",
    "class_weights = compute_class_weight('balanced', classes=np.array([0, 1, 2]), y=y_train)\n",
    "class_weights_dict = dict(enumerate(class_weights))"
   ],
   "id": "9df8271b3b924751",
   "outputs": [],
   "execution_count": 6
  },
  {
   "metadata": {
    "ExecuteTime": {
     "end_time": "2024-10-19T07:58:46.708281Z",
     "start_time": "2024-10-19T07:58:46.700732Z"
    }
   },
   "cell_type": "code",
   "source": [
    "def log_mlflow(model_name, model, X_train, X_test, y_train, y_test):\n",
    "    with mlflow.start_run():\n",
    "        # Log model type\n",
    "        mlflow.set_tag(\"mlflow.runName\", f\"{model_name}_BalanceWeight_TFIDF_Trigrams\")\n",
    "        mlflow.set_tag(\"experiment_type\", \"algorithm_comparison\")\n",
    "\n",
    "        # Log algorithm name as a parameter\n",
    "        mlflow.log_param(\"algo_name\", model_name)\n",
    "\n",
    "        # Train model\n",
    "        model.fit(X_train, y_train)\n",
    "        train_y_pred=model.predict(X_train)\n",
    "        test_y_pred = model.predict(X_test)\n",
    "\n",
    "        # Log accuracy\n",
    "        train_accuracy = accuracy_score(y_train,train_y_pred)\n",
    "        test_accuracy = accuracy_score(y_test, test_y_pred)\n",
    "        \n",
    "        mlflow.log_metric(\"train_accuracy\", train_accuracy)\n",
    "        mlflow.log_metric(\"test_accuracy\", test_accuracy)\n",
    "\n",
    "        # Log classification report\n",
    "        classification_rep = classification_report(y_test, test_y_pred, output_dict=True)\n",
    "        for label, metrics in classification_rep.items():\n",
    "            if isinstance(metrics, dict):\n",
    "                for metric, value in metrics.items():\n",
    "                    mlflow.log_metric(f\"{label}_{metric}\", value)\n",
    "\n",
    "        # Log the model\n",
    "        mlflow.sklearn.log_model(model, f\"{model_name}_model\")"
   ],
   "id": "95c3b52da8733c48",
   "outputs": [],
   "execution_count": 7
  },
  {
   "metadata": {
    "ExecuteTime": {
     "end_time": "2024-10-19T08:02:07.002616Z",
     "start_time": "2024-10-19T07:58:46.754273Z"
    }
   },
   "cell_type": "code",
   "source": [
    "def objective_rf(trial):\n",
    "    n_estimators = trial.suggest_int('n_estimators', 50, 300)  # Number of trees in the forest\n",
    "    max_depth = trial.suggest_int('max_depth', 3, 20)  # Maximum depth of the tree\n",
    "    min_samples_split = trial.suggest_int('min_samples_split', 2, 20)  # Minimum samples required to split a node\n",
    "    min_samples_leaf = trial.suggest_int('min_samples_leaf', 1, 20)  # Minimum samples required at a leaf node\n",
    "\n",
    "    # RandomForestClassifier setup\n",
    "    model = RandomForestClassifier(n_estimators=n_estimators, max_depth=max_depth,\n",
    "                                   min_samples_split=min_samples_split, min_samples_leaf=min_samples_leaf,\n",
    "                                   random_state=42)\n",
    "    return accuracy_score(y_test, model.fit(X_train, y_train).predict(X_test))\n",
    "\n",
    "\n",
    "\n",
    "def run_optuna_experiment():\n",
    "    study = optuna.create_study(direction=\"maximize\")\n",
    "    study.optimize(objective_rf, n_trials=30)\n",
    "\n",
    "    # Get the best parameters and log only the best model\n",
    "    best_params = study.best_params\n",
    "    best_model = RandomForestClassifier(n_estimators=best_params['n_estimators'],\n",
    "                                        max_depth=best_params['max_depth'],\n",
    "                                        min_samples_split=best_params['min_samples_split'],\n",
    "                                        min_samples_leaf=best_params['min_samples_leaf'],\n",
    "                                        random_state=42)\n",
    "\n",
    "    # Log the best model with MLflow, passing the algo_name as \"RandomForest\"\n",
    "    log_mlflow(\"RandomForest\", best_model, X_train, X_test, y_train, y_test)\n",
    "\n",
    "# Run the experiment for Random Forest\n",
    "run_optuna_experiment()"
   ],
   "id": "3049bc4ac1928c5a",
   "outputs": [
    {
     "name": "stderr",
     "output_type": "stream",
     "text": [
      "[I 2024-10-19 13:28:46,759] A new study created in memory with name: no-name-df30cb3f-0e72-4cc4-8797-316b775f7301\n",
      "[I 2024-10-19 13:28:49,445] Trial 0 finished with value: 0.43805187637969095 and parameters: {'n_estimators': 265, 'max_depth': 5, 'min_samples_split': 14, 'min_samples_leaf': 5}. Best is trial 0 with value: 0.43805187637969095.\n",
      "[I 2024-10-19 13:28:52,253] Trial 1 finished with value: 0.6466611479028698 and parameters: {'n_estimators': 125, 'max_depth': 18, 'min_samples_split': 2, 'min_samples_leaf': 17}. Best is trial 1 with value: 0.6466611479028698.\n",
      "[I 2024-10-19 13:28:55,175] Trial 2 finished with value: 0.6278973509933775 and parameters: {'n_estimators': 148, 'max_depth': 12, 'min_samples_split': 10, 'min_samples_leaf': 3}. Best is trial 1 with value: 0.6466611479028698.\n",
      "[I 2024-10-19 13:28:58,663] Trial 3 finished with value: 0.6448675496688742 and parameters: {'n_estimators': 157, 'max_depth': 16, 'min_samples_split': 10, 'min_samples_leaf': 11}. Best is trial 1 with value: 0.6466611479028698.\n",
      "[I 2024-10-19 13:29:05,863] Trial 4 finished with value: 0.6498344370860927 and parameters: {'n_estimators': 232, 'max_depth': 17, 'min_samples_split': 19, 'min_samples_leaf': 4}. Best is trial 4 with value: 0.6498344370860927.\n",
      "[I 2024-10-19 13:29:13,044] Trial 5 finished with value: 0.6545253863134658 and parameters: {'n_estimators': 224, 'max_depth': 20, 'min_samples_split': 7, 'min_samples_leaf': 10}. Best is trial 5 with value: 0.6545253863134658.\n",
      "[I 2024-10-19 13:29:17,088] Trial 6 finished with value: 0.6236203090507726 and parameters: {'n_estimators': 176, 'max_depth': 12, 'min_samples_split': 15, 'min_samples_leaf': 5}. Best is trial 5 with value: 0.6545253863134658.\n",
      "[I 2024-10-19 13:29:20,553] Trial 7 finished with value: 0.6378311258278145 and parameters: {'n_estimators': 158, 'max_depth': 14, 'min_samples_split': 13, 'min_samples_leaf': 12}. Best is trial 5 with value: 0.6545253863134658.\n",
      "[I 2024-10-19 13:29:21,554] Trial 8 finished with value: 0.4419150110375276 and parameters: {'n_estimators': 65, 'max_depth': 8, 'min_samples_split': 4, 'min_samples_leaf': 12}. Best is trial 5 with value: 0.6545253863134658.\n",
      "[I 2024-10-19 13:29:25,416] Trial 9 finished with value: 0.6360375275938189 and parameters: {'n_estimators': 194, 'max_depth': 13, 'min_samples_split': 9, 'min_samples_leaf': 16}. Best is trial 5 with value: 0.6545253863134658.\n",
      "[I 2024-10-19 13:29:35,072] Trial 10 finished with value: 0.6590783664459161 and parameters: {'n_estimators': 300, 'max_depth': 20, 'min_samples_split': 7, 'min_samples_leaf': 7}. Best is trial 10 with value: 0.6590783664459161.\n",
      "[I 2024-10-19 13:29:44,101] Trial 11 finished with value: 0.6541114790286976 and parameters: {'n_estimators': 297, 'max_depth': 19, 'min_samples_split': 6, 'min_samples_leaf': 8}. Best is trial 10 with value: 0.6590783664459161.\n",
      "[I 2024-10-19 13:29:51,237] Trial 12 finished with value: 0.6563189845474614 and parameters: {'n_estimators': 232, 'max_depth': 20, 'min_samples_split': 7, 'min_samples_leaf': 9}. Best is trial 10 with value: 0.6590783664459161.\n",
      "[I 2024-10-19 13:30:03,745] Trial 13 finished with value: 0.6590783664459161 and parameters: {'n_estimators': 299, 'max_depth': 20, 'min_samples_split': 6, 'min_samples_leaf': 1}. Best is trial 10 with value: 0.6590783664459161.\n",
      "[I 2024-10-19 13:30:09,092] Trial 14 finished with value: 0.5815397350993378 and parameters: {'n_estimators': 297, 'max_depth': 9, 'min_samples_split': 2, 'min_samples_leaf': 1}. Best is trial 10 with value: 0.6590783664459161.\n",
      "[I 2024-10-19 13:30:17,063] Trial 15 finished with value: 0.6445916114790287 and parameters: {'n_estimators': 268, 'max_depth': 15, 'min_samples_split': 6, 'min_samples_leaf': 1}. Best is trial 10 with value: 0.6590783664459161.\n",
      "[I 2024-10-19 13:30:23,343] Trial 16 finished with value: 0.6463852097130243 and parameters: {'n_estimators': 268, 'max_depth': 17, 'min_samples_split': 4, 'min_samples_leaf': 20}. Best is trial 10 with value: 0.6590783664459161.\n",
      "[I 2024-10-19 13:30:24,594] Trial 17 finished with value: 0.5830573951434879 and parameters: {'n_estimators': 74, 'max_depth': 9, 'min_samples_split': 8, 'min_samples_leaf': 7}. Best is trial 10 with value: 0.6590783664459161.\n",
      "[I 2024-10-19 13:30:25,580] Trial 18 finished with value: 0.4326710816777042 and parameters: {'n_estimators': 103, 'max_depth': 4, 'min_samples_split': 4, 'min_samples_leaf': 7}. Best is trial 10 with value: 0.6590783664459161.\n",
      "[I 2024-10-19 13:30:32,096] Trial 19 finished with value: 0.6524558498896247 and parameters: {'n_estimators': 206, 'max_depth': 18, 'min_samples_split': 12, 'min_samples_leaf': 3}. Best is trial 10 with value: 0.6590783664459161.\n",
      "[I 2024-10-19 13:30:37,828] Trial 20 finished with value: 0.6432119205298014 and parameters: {'n_estimators': 255, 'max_depth': 15, 'min_samples_split': 17, 'min_samples_leaf': 14}. Best is trial 10 with value: 0.6590783664459161.\n",
      "[I 2024-10-19 13:30:46,569] Trial 21 finished with value: 0.6571467991169978 and parameters: {'n_estimators': 296, 'max_depth': 20, 'min_samples_split': 7, 'min_samples_leaf': 9}. Best is trial 10 with value: 0.6590783664459161.\n",
      "[I 2024-10-19 13:30:55,907] Trial 22 finished with value: 0.6583885209713024 and parameters: {'n_estimators': 296, 'max_depth': 20, 'min_samples_split': 5, 'min_samples_leaf': 6}. Best is trial 10 with value: 0.6590783664459161.\n",
      "[I 2024-10-19 13:31:04,426] Trial 23 finished with value: 0.6536975717439294 and parameters: {'n_estimators': 281, 'max_depth': 18, 'min_samples_split': 4, 'min_samples_leaf': 6}. Best is trial 10 with value: 0.6590783664459161.\n",
      "[I 2024-10-19 13:31:14,029] Trial 24 finished with value: 0.6592163355408388 and parameters: {'n_estimators': 249, 'max_depth': 20, 'min_samples_split': 5, 'min_samples_leaf': 2}. Best is trial 24 with value: 0.6592163355408388.\n",
      "[I 2024-10-19 13:31:21,221] Trial 25 finished with value: 0.6474889624724062 and parameters: {'n_estimators': 243, 'max_depth': 16, 'min_samples_split': 11, 'min_samples_leaf': 2}. Best is trial 24 with value: 0.6592163355408388.\n",
      "[I 2024-10-19 13:31:29,731] Trial 26 finished with value: 0.6535596026490066 and parameters: {'n_estimators': 251, 'max_depth': 19, 'min_samples_split': 9, 'min_samples_leaf': 3}. Best is trial 24 with value: 0.6592163355408388.\n",
      "[I 2024-10-19 13:31:36,908] Trial 27 finished with value: 0.6520419426048565 and parameters: {'n_estimators': 204, 'max_depth': 17, 'min_samples_split': 3, 'min_samples_leaf': 1}. Best is trial 24 with value: 0.6592163355408388.\n",
      "[I 2024-10-19 13:31:46,161] Trial 28 finished with value: 0.6546633554083885 and parameters: {'n_estimators': 279, 'max_depth': 19, 'min_samples_split': 6, 'min_samples_leaf': 4}. Best is trial 24 with value: 0.6592163355408388.\n",
      "[I 2024-10-19 13:31:52,780] Trial 29 finished with value: 0.6383830022075055 and parameters: {'n_estimators': 275, 'max_depth': 14, 'min_samples_split': 8, 'min_samples_leaf': 5}. Best is trial 24 with value: 0.6592163355408388.\n",
      "2024/10/19 13:32:06 WARNING mlflow.models.model: Model logged without a signature and input example. Please set `input_example` parameter when logging the model to auto infer the model signature.\n",
      "2024/10/19 13:32:06 INFO mlflow.tracking._tracking_service.client: 🏃 View run RandomForest_BalanceWeight_TFIDF_Trigrams at: http://127.0.0.1:5000/#/experiments/1/runs/e3924e2b540a44d6b08111cdef3ac292.\n",
      "2024/10/19 13:32:06 INFO mlflow.tracking._tracking_service.client: 🧪 View experiment at: http://127.0.0.1:5000/#/experiments/1.\n"
     ]
    }
   ],
   "execution_count": 8
  }
 ],
 "metadata": {
  "kernelspec": {
   "display_name": "Python 3",
   "language": "python",
   "name": "python3"
  },
  "language_info": {
   "codemirror_mode": {
    "name": "ipython",
    "version": 2
   },
   "file_extension": ".py",
   "mimetype": "text/x-python",
   "name": "python",
   "nbconvert_exporter": "python",
   "pygments_lexer": "ipython2",
   "version": "2.7.6"
  }
 },
 "nbformat": 4,
 "nbformat_minor": 5
}
