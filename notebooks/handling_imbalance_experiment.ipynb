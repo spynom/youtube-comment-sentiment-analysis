{
 "cells": [
  {
   "metadata": {},
   "cell_type": "markdown",
   "source": "# Import libraries",
   "id": "5076a3df402d18cd"
  },
  {
   "cell_type": "code",
   "id": "initial_id",
   "metadata": {
    "collapsed": true,
    "ExecuteTime": {
     "end_time": "2024-10-15T07:16:33.268777Z",
     "start_time": "2024-10-15T07:16:32.460045Z"
    }
   },
   "source": [
    "from imblearn.over_sampling import SMOTE, ADASYN\n",
    "from imblearn.under_sampling import RandomUnderSampler\n",
    "from imblearn.combine import SMOTEENN\n",
    "from sklearn.feature_extraction.text import TfidfVectorizer\n",
    "from sklearn.ensemble import RandomForestClassifier\n",
    "from sklearn.model_selection import train_test_split\n",
    "from sklearn.metrics import accuracy_score, classification_report, confusion_matrix\n",
    "import mlflow\n",
    "import mlflow.sklearn\n",
    "import matplotlib.pyplot as plt\n",
    "import seaborn as sns\n",
    "import pandas as pd\n",
    "import os"
   ],
   "outputs": [],
   "execution_count": 2
  },
  {
   "metadata": {},
   "cell_type": "markdown",
   "source": "# Experiments",
   "id": "2b1f81a86f9489a7"
  },
  {
   "metadata": {
    "ExecuteTime": {
     "end_time": "2024-10-15T08:27:32.827958Z",
     "start_time": "2024-10-15T08:27:32.824710Z"
    }
   },
   "cell_type": "code",
   "source": [
    "def read_file(*args,file_type=\"csv\")->pd.DataFrame:\n",
    "    \"\"\":parameter input directories in sequence\n",
    "        :return DataFrame\"\"\"\n",
    "    \n",
    "    path=os.path.join(*args)\n",
    "    if file_type == \"tsv\":\n",
    "        return pd.read_csv(path, sep=\"\\t\")\n",
    "    return pd.read_csv(path)"
   ],
   "id": "51e95784890c5b82",
   "outputs": [],
   "execution_count": 26
  },
  {
   "metadata": {
    "ExecuteTime": {
     "end_time": "2024-10-15T07:17:49.108971Z",
     "start_time": "2024-10-15T07:17:49.105906Z"
    }
   },
   "cell_type": "code",
   "source": "mlflow.set_tracking_uri(\"http://127.0.0.1:5000/\")",
   "id": "2e40423fca5eb7a1",
   "outputs": [],
   "execution_count": 7
  },
  {
   "metadata": {
    "ExecuteTime": {
     "end_time": "2024-10-15T08:18:28.613492Z",
     "start_time": "2024-10-15T08:18:28.579967Z"
    }
   },
   "cell_type": "code",
   "source": "mlflow.set_experiment(\"ImbalanceTechniquesExperiment\")",
   "id": "14850f9e6c7856ba",
   "outputs": [
    {
     "name": "stderr",
     "output_type": "stream",
     "text": [
      "2024/10/15 13:48:28 INFO mlflow.tracking.fluent: Experiment with name 'ImbalanceTechniquesExperiment' does not exist. Creating a new experiment.\n"
     ]
    },
    {
     "data": {
      "text/plain": [
       "<Experiment: artifact_location='/home/spynom/mlruns/4', creation_time=1728980308594, experiment_id='4', last_update_time=1728980308594, lifecycle_stage='active', name='ImbalanceTechniquesExperiment', tags={}>"
      ]
     },
     "execution_count": 24,
     "metadata": {},
     "output_type": "execute_result"
    }
   ],
   "execution_count": 24
  },
  {
   "metadata": {
    "ExecuteTime": {
     "end_time": "2024-10-15T08:20:13.219735Z",
     "start_time": "2024-10-15T08:18:32.984181Z"
    }
   },
   "cell_type": "code",
   "source": [
    "# Step 1: Function to run the experiment\n",
    "def run_imbalanced_experiment(imbalance_method):\n",
    "    \n",
    "    df=read_file(\"..\",\"data\",\"processed\",\"cleaned.csv\").dropna(how=\"any\").drop_duplicates()\n",
    "    \n",
    "    X=df.comment\n",
    "    y=df.category\n",
    "    \n",
    "    X_train,X_test,y_train,y_test=train_test_split(X,y,test_size=0.2,random_state=42,stratify=y)\n",
    "    \n",
    "    ngram_range = (1, 3)  # Trigram setting\n",
    "    max_features = 10000  # Set max_features to 1000 for TF-IDF\n",
    "\n",
    "    # Step 2: Vectorization using TF-IDF, fit on training data only\n",
    "    vectorizer = TfidfVectorizer(ngram_range=ngram_range, max_features=max_features)\n",
    "    vectorizer.fit(X)  # Fit on all vocab data\n",
    "    X_train_vec = vectorizer.transform(X_train)\n",
    "    X_test_vec = vectorizer.transform(X_test)  # Transform test data\n",
    "\n",
    "    # Step 3: Handle class imbalance based on the selected method (only applied to the training set)\n",
    "    if imbalance_method == 'class_weights':\n",
    "        # Use class_weight in Random Forest\n",
    "        class_weight = 'balanced'\n",
    "    else:\n",
    "        class_weight = None  # Do not apply class_weight if using resampling\n",
    "\n",
    "        # Resampling Techniques (only apply to the training set)\n",
    "        if imbalance_method == 'oversampling':\n",
    "            smote = SMOTE(random_state=42)\n",
    "            X_train_vec, y_train = smote.fit_resample(X_train_vec, y_train)\n",
    "        elif imbalance_method == 'adasyn':\n",
    "            adasyn = ADASYN(random_state=42)\n",
    "            X_train_vec, y_train = adasyn.fit_resample(X_train_vec, y_train)\n",
    "        elif imbalance_method == 'undersampling':\n",
    "            rus = RandomUnderSampler(random_state=42)\n",
    "            X_train_vec, y_train = rus.fit_resample(X_train_vec, y_train)\n",
    "        elif imbalance_method == 'smote_enn':\n",
    "            smote_enn = SMOTEENN(random_state=42)\n",
    "            X_train_vec, y_train = smote_enn.fit_resample(X_train_vec, y_train)\n",
    "\n",
    "    # Step 5: Define and train a Random Forest model\n",
    "    with mlflow.start_run() as run:\n",
    "        # Set tags for the experiment and run\n",
    "        mlflow.set_tag(\"mlflow.runName\", f\"Imbalance_{imbalance_method}_RandomForest_TFIDF_Trigrams\")\n",
    "        mlflow.set_tag(\"experiment_type\", \"imbalance_handling\")\n",
    "        mlflow.set_tag(\"model_type\", \"RandomForestClassifier\")\n",
    "\n",
    "        # Add a description\n",
    "        mlflow.set_tag(\"description\", f\"RandomForest with TF-IDF Trigrams, imbalance handling method={imbalance_method}\")\n",
    "\n",
    "        # Log vectorizer parameters\n",
    "        mlflow.log_param(\"vectorizer_type\", \"TF-IDF\")\n",
    "        mlflow.log_param(\"ngram_range\", ngram_range)\n",
    "        mlflow.log_param(\"vectorizer_max_features\", max_features)\n",
    "\n",
    "        # Log Random Forest parameters\n",
    "        n_estimators = 200\n",
    "        max_depth = 15\n",
    "\n",
    "        mlflow.log_param(\"n_estimators\", n_estimators)\n",
    "        mlflow.log_param(\"max_depth\", max_depth)\n",
    "        mlflow.log_param(\"imbalance_method\", imbalance_method)\n",
    "\n",
    "        # Initialize and train the model\n",
    "        model = RandomForestClassifier(n_estimators=n_estimators, max_depth=max_depth, random_state=42, class_weight=class_weight)\n",
    "        model.fit(X_train_vec, y_train)\n",
    "\n",
    "        # Step 6: Make predictions and log metrics\n",
    "        y_pred = model.predict(X_test_vec)\n",
    "\n",
    "        # Log accuracy\n",
    "        accuracy = accuracy_score(y_test, y_pred)\n",
    "        mlflow.log_metric(\"accuracy\", accuracy)\n",
    "\n",
    "        # Log classification report\n",
    "        classification_rep = classification_report(y_test, y_pred, output_dict=True)\n",
    "        for label, metrics in classification_rep.items():\n",
    "            if isinstance(metrics, dict):\n",
    "                for metric, value in metrics.items():\n",
    "                    mlflow.log_metric(f\"{label}_{metric}\", value)\n",
    "\n",
    "        # Log confusion matrix\n",
    "        conf_matrix = confusion_matrix(y_test, y_pred)\n",
    "        plt.figure(figsize=(8, 6))\n",
    "        sns.heatmap(conf_matrix, annot=True, fmt=\"d\", cmap=\"Blues\")\n",
    "        plt.xlabel(\"Predicted\")\n",
    "        plt.ylabel(\"Actual\")\n",
    "        plt.title(f\"Confusion Matrix: TF-IDF Trigrams, Imbalance={imbalance_method}\")\n",
    "        confusion_matrix_filename = f\"confusion_matrix_{imbalance_method}.png\"\n",
    "        plt.savefig(confusion_matrix_filename)\n",
    "        mlflow.log_artifact(confusion_matrix_filename)\n",
    "        plt.close()\n",
    "\n",
    "        # Log the model\n",
    "        mlflow.sklearn.log_model(model, f\"random_forest_model_tfidf_trigrams_imbalance_{imbalance_method}\")\n",
    "\n",
    "# Step 7: Run experiments for different imbalance methods\n",
    "imbalance_methods = ['class_weights', 'oversampling', 'adasyn', 'undersampling', 'smote_enn']\n",
    "\n",
    "for method in imbalance_methods:\n",
    "    run_imbalanced_experiment(method)"
   ],
   "id": "8782c4add64b02be",
   "outputs": [
    {
     "name": "stderr",
     "output_type": "stream",
     "text": [
      "2024/10/15 13:48:45 WARNING mlflow.models.model: Model logged without a signature and input example. Please set `input_example` parameter when logging the model to auto infer the model signature.\n",
      "2024/10/15 13:48:45 INFO mlflow.tracking._tracking_service.client: 🏃 View run Imbalance_class_weights_RandomForest_TFIDF_Trigrams at: http://127.0.0.1:5000/#/experiments/4/runs/7e68b228a8c942bfa27685556fd7564b.\n",
      "2024/10/15 13:48:45 INFO mlflow.tracking._tracking_service.client: 🧪 View experiment at: http://127.0.0.1:5000/#/experiments/4.\n",
      "2024/10/15 13:49:00 WARNING mlflow.models.model: Model logged without a signature and input example. Please set `input_example` parameter when logging the model to auto infer the model signature.\n",
      "2024/10/15 13:49:00 INFO mlflow.tracking._tracking_service.client: 🏃 View run Imbalance_oversampling_RandomForest_TFIDF_Trigrams at: http://127.0.0.1:5000/#/experiments/4/runs/cd7eec151fc74da1958db9c991c9038f.\n",
      "2024/10/15 13:49:00 INFO mlflow.tracking._tracking_service.client: 🧪 View experiment at: http://127.0.0.1:5000/#/experiments/4.\n",
      "2024/10/15 13:49:24 WARNING mlflow.models.model: Model logged without a signature and input example. Please set `input_example` parameter when logging the model to auto infer the model signature.\n",
      "2024/10/15 13:49:24 INFO mlflow.tracking._tracking_service.client: 🏃 View run Imbalance_adasyn_RandomForest_TFIDF_Trigrams at: http://127.0.0.1:5000/#/experiments/4/runs/e24030633b744f41b86e9fd53ba9d62d.\n",
      "2024/10/15 13:49:24 INFO mlflow.tracking._tracking_service.client: 🧪 View experiment at: http://127.0.0.1:5000/#/experiments/4.\n",
      "2024/10/15 13:49:34 WARNING mlflow.models.model: Model logged without a signature and input example. Please set `input_example` parameter when logging the model to auto infer the model signature.\n",
      "2024/10/15 13:49:34 INFO mlflow.tracking._tracking_service.client: 🏃 View run Imbalance_undersampling_RandomForest_TFIDF_Trigrams at: http://127.0.0.1:5000/#/experiments/4/runs/67cbab45cd4a40c186b24c690c0fb310.\n",
      "2024/10/15 13:49:34 INFO mlflow.tracking._tracking_service.client: 🧪 View experiment at: http://127.0.0.1:5000/#/experiments/4.\n",
      "2024/10/15 13:50:13 WARNING mlflow.models.model: Model logged without a signature and input example. Please set `input_example` parameter when logging the model to auto infer the model signature.\n",
      "2024/10/15 13:50:13 INFO mlflow.tracking._tracking_service.client: 🏃 View run Imbalance_smote_enn_RandomForest_TFIDF_Trigrams at: http://127.0.0.1:5000/#/experiments/4/runs/76ae43963da54a95b2822bcbae02b96b.\n",
      "2024/10/15 13:50:13 INFO mlflow.tracking._tracking_service.client: 🧪 View experiment at: http://127.0.0.1:5000/#/experiments/4.\n"
     ]
    }
   ],
   "execution_count": 25
  }
 ],
 "metadata": {
  "kernelspec": {
   "display_name": "Python 3",
   "language": "python",
   "name": "python3"
  },
  "language_info": {
   "codemirror_mode": {
    "name": "ipython",
    "version": 2
   },
   "file_extension": ".py",
   "mimetype": "text/x-python",
   "name": "python",
   "nbconvert_exporter": "python",
   "pygments_lexer": "ipython2",
   "version": "2.7.6"
  }
 },
 "nbformat": 4,
 "nbformat_minor": 5
}
